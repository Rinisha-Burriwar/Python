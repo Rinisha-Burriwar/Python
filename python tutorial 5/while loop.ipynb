{
 "cells": [
  {
   "cell_type": "code",
   "execution_count": 4,
   "metadata": {},
   "outputs": [
    {
     "name": "stdout",
     "output_type": "stream",
     "text": [
      "10\n"
     ]
    }
   ],
   "source": [
    "total = 0\n",
    "j = 1\n",
    "while j < 5:\n",
    "    total = total + j\n",
    "    j = j + 1\n",
    "print(total)\n",
    "    "
   ]
  },
  {
   "cell_type": "code",
   "execution_count": 6,
   "metadata": {},
   "outputs": [
    {
     "name": "stdout",
     "output_type": "stream",
     "text": [
      "[5, 4, 3, 2, 1, -1, -2, -3, -4, -5]\n",
      "15\n"
     ]
    }
   ],
   "source": [
    "a = [5, 4, 3, 2, 1,-1, -2, -3, -4, -5]\n",
    "print(a)\n",
    "total = 0                                        #to add all positive numbers\n",
    "i = 0\n",
    "while a[i] > 0:\n",
    "    total = total + a[i]\n",
    "    i = i + 1\n",
    "print(total)\n",
    "    "
   ]
  },
  {
   "cell_type": "code",
   "execution_count": 9,
   "metadata": {},
   "outputs": [
    {
     "name": "stdout",
     "output_type": "stream",
     "text": [
      "[5, 4, 3, 2, 1]\n",
      "15\n"
     ]
    }
   ],
   "source": [
    "a = [5, 4, 3, 2, 1]\n",
    "print(a)\n",
    "total = 0\n",
    "i = 0\n",
    "while i < len(a)  and a[i] > 0:               #we have included length here because wen lists points to 5 it will show error\n",
    "    total = total + a[i]\n",
    "    i = i + 1\n",
    "print(total)"
   ]
  },
  {
   "cell_type": "code",
   "execution_count": 19,
   "metadata": {},
   "outputs": [
    {
     "name": "stdout",
     "output_type": "stream",
     "text": [
      "[5, 4, 3, 2, 1, -1, -2, -3, -4, -5]\n",
      "15\n"
     ]
    }
   ],
   "source": [
    "b = [5, 4, 3, 2, 1,-1, -2, -3, -4, -5]\n",
    "print(b)\n",
    "total2 = 0                   \n",
    "for e in b:\n",
    "    if e <= 0:\n",
    "        break\n",
    "    total2 = total2 + e\n",
    "    i = i + 1\n",
    "print(total2)\n",
    "    "
   ]
  },
  {
   "cell_type": "code",
   "execution_count": 23,
   "metadata": {},
   "outputs": [
    {
     "name": "stdout",
     "output_type": "stream",
     "text": [
      "[5, 4, 3, 2, 1, -1, -2, -3, -4, -5]\n",
      "15\n"
     ]
    }
   ],
   "source": [
    "# b = [5, 4, 3, 2, 1,-1, -2, -3, -4, -5]\n",
    "print(b)\n",
    "total3 = 0    \n",
    "i = 0\n",
    "while True:\n",
    "    total3 = total3 + b[i]\n",
    "    i = i + 1\n",
    "    if b[i] <=0:\n",
    "        break\n",
    "print(total3)"
   ]
  },
  {
   "cell_type": "code",
   "execution_count": 30,
   "metadata": {},
   "outputs": [
    {
     "name": "stdout",
     "output_type": "stream",
     "text": [
      "-17\n"
     ]
    }
   ],
   "source": [
    "given_list = [7, 5, 4, 4, 3, 1, -2, -3, -5, -7]\n",
    "total = 0\n",
    "i = 0\n",
    "\n",
    "while i < len(given_list):\n",
    "    if given_list[i] <= 0:\n",
    "        total += given_list[i]\n",
    "    i += 1\n",
    "    \n",
    "print (total)\n"
   ]
  },
  {
   "cell_type": "code",
   "execution_count": 6,
   "metadata": {},
   "outputs": [
    {
     "name": "stdout",
     "output_type": "stream",
     "text": [
      "-17\n"
     ]
    }
   ],
   "source": [
    "given_list = [7, 5, 4, 4, 3, 1, -2, -3, -5, -7]\n",
    "total1 = 0\n",
    "j = len(given_list) - 1\n",
    "\n",
    "while given_list[j] < 0:\n",
    "        total1 += given_list[j]\n",
    "        j -= 1\n",
    "    \n",
    "print (total1)"
   ]
  },
  {
   "cell_type": "code",
   "execution_count": null,
   "metadata": {
    "collapsed": true
   },
   "outputs": [],
   "source": []
  }
 ],
 "metadata": {
  "kernelspec": {
   "display_name": "Python 3",
   "language": "python",
   "name": "python3"
  },
  "language_info": {
   "codemirror_mode": {
    "name": "ipython",
    "version": 3
   },
   "file_extension": ".py",
   "mimetype": "text/x-python",
   "name": "python",
   "nbconvert_exporter": "python",
   "pygments_lexer": "ipython3",
   "version": "3.6.1"
  }
 },
 "nbformat": 4,
 "nbformat_minor": 2
}
