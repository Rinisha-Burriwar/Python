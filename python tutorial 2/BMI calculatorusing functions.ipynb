{
 "cells": [
  {
   "cell_type": "code",
   "execution_count": 7,
   "metadata": {
    "collapsed": true
   },
   "outputs": [],
   "source": [
    "name1 = \"rini\"\n",
    "height_m1 = 2\n",
    "weight_kg1 = 45\n",
    "\n",
    "name2 = \"rini sis\"\n",
    "height_m2 = 3\n",
    "weight_kg2 = 90\n",
    "\n",
    "name3 = \"rini bro\"\n",
    "height_m3 = 4\n",
    "weight_kg3 = 110\n"
   ]
  },
  {
   "cell_type": "code",
   "execution_count": 14,
   "metadata": {},
   "outputs": [],
   "source": [
    "def bmicalculator(name,height_m,weight_kg):\n",
    "    bmi = weight_kg / (height_m **2)\n",
    "    print(bmi)\n",
    "    if bmi < 25:\n",
    "        return name +  \" is not overweight\"\n",
    "    else:\n",
    "        return name +  \" is overweight\""
   ]
  },
  {
   "cell_type": "code",
   "execution_count": 15,
   "metadata": {},
   "outputs": [
    {
     "name": "stdout",
     "output_type": "stream",
     "text": [
      "11.25\n",
      "10.0\n",
      "6.875\n"
     ]
    }
   ],
   "source": [
    "result1 = bmicalculator(name1,height_m1,weight_kg1)\n",
    "result2 = bmicalculator(name2,height_m2,weight_kg2)\n",
    "result3 = bmicalculator(name3,height_m3,weight_kg3)"
   ]
  },
  {
   "cell_type": "code",
   "execution_count": 16,
   "metadata": {},
   "outputs": [
    {
     "name": "stdout",
     "output_type": "stream",
     "text": [
      "rini is not overweight\n",
      "rini sis is not overweight\n",
      "rini bro is not overweight\n"
     ]
    }
   ],
   "source": [
    "print(result1)\n",
    "print(result2)\n",
    "print(result3)\n"
   ]
  },
  {
   "cell_type": "code",
   "execution_count": null,
   "metadata": {
    "collapsed": true
   },
   "outputs": [],
   "source": []
  }
 ],
 "metadata": {
  "kernelspec": {
   "display_name": "Python 3",
   "language": "python",
   "name": "python3"
  },
  "language_info": {
   "codemirror_mode": {
    "name": "ipython",
    "version": 3
   },
   "file_extension": ".py",
   "mimetype": "text/x-python",
   "name": "python",
   "nbconvert_exporter": "python",
   "pygments_lexer": "ipython3",
   "version": "3.6.1"
  }
 },
 "nbformat": 4,
 "nbformat_minor": 2
}
