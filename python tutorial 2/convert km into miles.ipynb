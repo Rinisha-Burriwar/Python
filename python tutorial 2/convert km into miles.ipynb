{
 "cells": [
  {
   "cell_type": "code",
   "execution_count": 1,
   "metadata": {
    "collapsed": true
   },
   "outputs": [],
   "source": [
    "miles1 = 220\n",
    "\n",
    "miles2 = 120\n",
    "\n",
    "miles3 = 10"
   ]
  },
  {
   "cell_type": "code",
   "execution_count": 2,
   "metadata": {
    "collapsed": true
   },
   "outputs": [],
   "source": [
    "def kmtomilesconversion(miles):\n",
    "    km = 1.6 * miles\n",
    "    print(\"km=\")\n",
    "    print(km)\n",
    "    "
   ]
  },
  {
   "cell_type": "code",
   "execution_count": 3,
   "metadata": {},
   "outputs": [
    {
     "name": "stdout",
     "output_type": "stream",
     "text": [
      "km=\n",
      "352.0\n",
      "km=\n",
      "192.0\n",
      "km=\n",
      "16.0\n"
     ]
    }
   ],
   "source": [
    "result1 =  kmtomilesconversion(miles1)\n",
    "result2 =  kmtomilesconversion(miles2)\n",
    "result3 =  kmtomilesconversion(miles3)"
   ]
  },
  {
   "cell_type": "code",
   "execution_count": null,
   "metadata": {
    "collapsed": true
   },
   "outputs": [],
   "source": []
  }
 ],
 "metadata": {
  "kernelspec": {
   "display_name": "Python 3",
   "language": "python",
   "name": "python3"
  },
  "language_info": {
   "codemirror_mode": {
    "name": "ipython",
    "version": 3
   },
   "file_extension": ".py",
   "mimetype": "text/x-python",
   "name": "python",
   "nbconvert_exporter": "python",
   "pygments_lexer": "ipython3",
   "version": "3.6.1"
  }
 },
 "nbformat": 4,
 "nbformat_minor": 2
}
