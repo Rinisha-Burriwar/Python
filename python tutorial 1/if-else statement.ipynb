{
 "cells": [
  {
   "cell_type": "code",
   "execution_count": 1,
   "metadata": {},
   "outputs": [
    {
     "name": "stdout",
     "output_type": "stream",
     "text": [
      "a is less than b\n",
      "out of the if block\n"
     ]
    }
   ],
   "source": [
    "a = 1\n",
    "b = 3\n",
    "if a < b:\n",
    "    print(\"a is less than b\")\n",
    "print(\"out of the if block\")"
   ]
  },
  {
   "cell_type": "code",
   "execution_count": 2,
   "metadata": {},
   "outputs": [
    {
     "name": "stdout",
     "output_type": "stream",
     "text": [
      "out of the if block\n"
     ]
    }
   ],
   "source": [
    "a = 6\n",
    "b = 4\n",
    "if a < b:\n",
    "    print(\"a is less than b\")\n",
    "print(\"out of the if block\")"
   ]
  },
  {
   "cell_type": "code",
   "execution_count": 3,
   "metadata": {},
   "outputs": [
    {
     "name": "stdout",
     "output_type": "stream",
     "text": [
      "a is less than b\n",
      "out of the if block\n"
     ]
    }
   ],
   "source": [
    "a = 1\n",
    "b = 3\n",
    "if a < b:\n",
    "    print(\"a is less than b\")\n",
    "else:\n",
    "    print(\"a is not less than b\")\n",
    "print(\"out of the if block\")"
   ]
  },
  {
   "cell_type": "code",
   "execution_count": 4,
   "metadata": {},
   "outputs": [
    {
     "name": "stdout",
     "output_type": "stream",
     "text": [
      "a is not less than b\n",
      "out of the if block\n"
     ]
    }
   ],
   "source": [
    "a = 5\n",
    "b = 4\n",
    "if a < b:\n",
    "    print(\"a is less than b\")\n",
    "else:\n",
    "    print(\"a is not less than b\")\n",
    "print(\"out of the if block\")"
   ]
  },
  {
   "cell_type": "code",
   "execution_count": 10,
   "metadata": {},
   "outputs": [
    {
     "name": "stdout",
     "output_type": "stream",
     "text": [
      "e is greater than f by more than 10\n",
      "out of the if block\n"
     ]
    }
   ],
   "source": [
    "e = 22\n",
    "f = 11\n",
    "if e < f:\n",
    "    print(\"e is less than f\")\n",
    "elif e == f:\n",
    "    print(\"e is equal to f\")\n",
    "elif e > f + 10:\n",
    "    print(\"e is greater than f by more than 10\")\n",
    "else:\n",
    "    print(\"e is greater than f\")\n",
    "print(\"out of the if block\")"
   ]
  },
  {
   "cell_type": "code",
   "execution_count": 11,
   "metadata": {},
   "outputs": [
    {
     "name": "stdout",
     "output_type": "stream",
     "text": [
      "g is greater than h\n",
      "out of the if block\n"
     ]
    }
   ],
   "source": [
    "g = 22\n",
    "h = 11\n",
    "if g < h:\n",
    "    print(\"g is less than h\")\n",
    "else:\n",
    "    if g == h:\n",
    "        print(\"g is equal to h\")\n",
    "    else:\n",
    "        print(\"g is greater than h\")\n",
    "print(\"out of the if block\")"
   ]
  },
  {
   "cell_type": "code",
   "execution_count": null,
   "metadata": {
    "collapsed": true
   },
   "outputs": [],
   "source": []
  }
 ],
 "metadata": {
  "kernelspec": {
   "display_name": "Python 3",
   "language": "python",
   "name": "python3"
  },
  "language_info": {
   "codemirror_mode": {
    "name": "ipython",
    "version": 3
   },
   "file_extension": ".py",
   "mimetype": "text/x-python",
   "name": "python",
   "nbconvert_exporter": "python",
   "pygments_lexer": "ipython3",
   "version": "3.6.1"
  }
 },
 "nbformat": 4,
 "nbformat_minor": 2
}
